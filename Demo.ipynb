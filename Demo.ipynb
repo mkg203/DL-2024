{
 "cells": [
  {
   "cell_type": "code",
   "execution_count": 1,
   "id": "3cb49104-7906-4bd9-a589-84f21cc27580",
   "metadata": {},
   "outputs": [],
   "source": [
    "import sys, os\n",
    "\n",
    "venv_path = os.path.dirname(sys.executable)\n",
    "ROOT = os.path.abspath(os.path.join(venv_path, \"..\", \"..\"))"
   ]
  },
  {
   "cell_type": "code",
   "execution_count": 2,
   "id": "39c4b9b8-6b58-43cb-bdd0-d87e3f9660bb",
   "metadata": {},
   "outputs": [],
   "source": [
    "from music21 import stream, note, meter, clef, key"
   ]
  },
  {
   "cell_type": "code",
   "execution_count": 3,
   "id": "71565474-3189-4207-8ac8-0ac5dd733ecf",
   "metadata": {},
   "outputs": [],
   "source": [
    "def parse_semantic_encoding(tokens):\n",
    "    parsed_stream = stream.Stream()\n",
    "    \n",
    "    for token in tokens:\n",
    "        try:\n",
    "            if token.startswith(\"clef-\"):\n",
    "                clef_type = token.split(\"-\")[1]\n",
    "                parsed_stream.append(clef.clefFromString(clef_type))\n",
    "            elif token.startswith(\"keySignature-\"):\n",
    "                key_sig = token.split(\"-\")[1]\n",
    "                parsed_stream.append(key.Key(key_sig))\n",
    "            elif token.startswith(\"timeSignature-\"):\n",
    "                time_sig = token.split(\"-\")[1]\n",
    "                try:\n",
    "                    parsed_stream.append(meter.TimeSignature(time_sig))\n",
    "                except:\n",
    "                    parsed_stream.append(meter.TimeSignature(time_sig[:-1]))\n",
    "            elif token.startswith(\"note-\"):\n",
    "                pitch, duration = token.split(\"-\")[1].split(\"_\")\n",
    "                parsed_stream.append(note.Note(pitch, quarterLength=parse_duration(duration)))\n",
    "            elif token.startswith(\"rest-\"):\n",
    "                duration = token.split(\"-\")[1]\n",
    "                parsed_stream.append(note.Rest(quarterLength=parse_duration(duration)))\n",
    "            elif token.startswith(\"barline\"):\n",
    "                parsed_stream.append(stream.Measure())  # Add a barline\n",
    "        except:\n",
    "            continue\n",
    "    \n",
    "    return parsed_stream"
   ]
  },
  {
   "cell_type": "code",
   "execution_count": 4,
   "id": "5b7b5658-4d2c-42dc-9637-15944b615c2f",
   "metadata": {},
   "outputs": [],
   "source": [
    "def parse_duration(duration_token):\n",
    "    match duration_token:\n",
    "        case \"quarter\":\n",
    "            return 1.0\n",
    "        case \"half\":\n",
    "            return 2.0\n",
    "        case \"whole\":\n",
    "            return 4.0\n",
    "        case \"eighth\":\n",
    "            return 0.5\n",
    "        case \"sixteenth\":\n",
    "            return 0.25\n",
    "        case \"thirty_second\":\n",
    "            return 0.125\n",
    "        case \"sixty_fourth\":\n",
    "            return 0.0625\n",
    "        case t if \"dot\" in t:\n",
    "            base_duration = parse_duration(t.split(\".\")[0])\n",
    "            return base_duration * 1.5\n",
    "        case _:\n",
    "            return 1.0  # Default to quarter note"
   ]
  },
  {
   "cell_type": "code",
   "execution_count": 5,
   "id": "01059624-22ed-4937-a4b9-a69a997777e8",
   "metadata": {},
   "outputs": [
    {
     "name": "stdout",
     "output_type": "stream",
     "text": [
      "{0.0} <music21.clef.TrebleClef>\n",
      "{0.0} <music21.meter.TimeSignature 4/4>\n",
      "{0.0} <music21.note.Note E>\n",
      "{1.0} <music21.note.Note D>\n",
      "{2.0} <music21.note.Note C>\n",
      "{3.0} <music21.note.Note D>\n",
      "{4.0} <music21.stream.Measure 0 offset=4.0>\n",
      "\n",
      "{4.0} <music21.note.Note E>\n",
      "{5.0} <music21.note.Note E>\n",
      "{6.0} <music21.note.Note E>\n",
      "{8.0} <music21.stream.Measure 0 offset=8.0>\n",
      "\n",
      "{8.0} <music21.note.Note D>\n",
      "{9.0} <music21.note.Note D>\n",
      "{10.0} <music21.note.Note D>\n",
      "{12.0} <music21.stream.Measure 0 offset=12.0>\n",
      "\n",
      "{12.0} <music21.note.Note E>\n",
      "{13.0} <music21.note.Note G>\n",
      "{14.0} <music21.note.Note G>\n",
      "{16.0} <music21.stream.Measure 0 offset=16.0>\n",
      "\n",
      "{16.0} <music21.note.Note E>\n",
      "{17.0} <music21.note.Note D>\n",
      "{18.0} <music21.note.Note C>\n",
      "{19.0} <music21.note.Note D>\n",
      "{20.0} <music21.stream.Measure 0 offset=20.0>\n",
      "\n",
      "{20.0} <music21.note.Note E>\n",
      "{21.0} <music21.note.Note E>\n",
      "{22.0} <music21.note.Note E>\n",
      "{23.0} <music21.note.Note E>\n",
      "{24.0} <music21.stream.Measure 0 offset=24.0>\n",
      "\n",
      "{24.0} <music21.note.Note D>\n",
      "{25.0} <music21.note.Note D>\n",
      "{26.0} <music21.note.Note E>\n",
      "{27.0} <music21.note.Note D>\n",
      "{28.0} <music21.stream.Measure 0 offset=28.0>\n",
      "\n",
      "{28.0} <music21.note.Note C>\n",
      "{32.0} <music21.stream.Measure 0 offset=32.0>\n",
      "\n"
     ]
    },
    {
     "data": {
      "text/html": [
       "\n",
       "        <div id=\"midiPlayerDiv241\"></div>\n",
       "        <link rel=\"stylesheet\" href=\"https://cuthbertLab.github.io/music21j/css/m21.css\">\n",
       "        \n",
       "        <script\n",
       "        src=\"https://cdnjs.cloudflare.com/ajax/libs/require.js/2.3.6/require.min.js\"\n",
       "        ></script>\n",
       "    \n",
       "        <script>\n",
       "        function midiPlayerDiv241_play() {\n",
       "            const rq = require.config({\n",
       "                paths: {\n",
       "                    'music21': 'https://cuthbertLab.github.io/music21j/releases/music21.debug',\n",
       "                }\n",
       "            });\n",
       "            rq(['music21'], function(music21) {\n",
       "                mp = new music21.miditools.MidiPlayer();\n",
       "                mp.addPlayer(\"#midiPlayerDiv241\");\n",
       "                mp.base64Load(\"data:audio/midi;base64,TVRoZAAAAAYAAQACJ2BNVHJrAAAAFAD/UQMHoSAA/1gEBAIYCM5g/y8ATVRyawAAAPwA/wMAAOAAQM5gkDRazmCANAAAkDJazmCAMgAAkDBazmCAMAAAkDJazmCAMgAAkDRazmCANAAAkDRazmCANAAAkDRagZ1AgDQAAJAyWs5ggDIAAJAyWs5ggDIAAJAyWoGdQIAyAACQNFrOYIA0AACQN1rOYIA3AACQN1qBnUCANwAAkDRazmCANAAAkDJazmCAMgAAkDBazmCAMAAAkDJazmCAMgAAkDRazmCANAAAkDRazmCANAAAkDRazmCANAAAkDRazmCANAAAkDJazmCAMgAAkDJazmCAMgAAkDRazmCANAAAkDJazmCAMgAAkDBagrsAgDAAzmD/LwA=\");\n",
       "            });\n",
       "        }\n",
       "        if (typeof require === 'undefined') {\n",
       "            setTimeout(midiPlayerDiv241_play, 2000);\n",
       "        } else {\n",
       "            midiPlayerDiv241_play();\n",
       "        }\n",
       "        </script>"
      ],
      "text/plain": [
       "<IPython.core.display.HTML object>"
      ]
     },
     "metadata": {},
     "output_type": "display_data"
    }
   ],
   "source": [
    "semantic_tokens = [\n",
    "    'clef-G2',\n",
    "    'timeSignature-C',\n",
    "    'note-E3_quarter',\n",
    "    'note-D3_quarter',\n",
    "    'note-C3_quarter',\n",
    "    'note-D3_quarter.',\n",
    "    'barline',\n",
    "    'note-E3_quarter',\n",
    "    'note-E3_quarter',\n",
    "    'note-E3_half',\n",
    "    'barline',\n",
    "    'note-D3_quarter',\n",
    "    'note-D3_quarter',\n",
    "    'note-D3_half',\n",
    "    'barline',\n",
    "    'note-E3_quarter',\n",
    "    'note-G3_quarter',\n",
    "    'note-G3_half',\n",
    "    'barline',\n",
    "    'note-E3_quarter',\n",
    "    'note-D3_quarter',\n",
    "    'note-C3_quarter',\n",
    "    'note-D3_quarter.',\n",
    "    'barline',\n",
    "    'note-E3_quarter',\n",
    "    'note-E3_quarter',\n",
    "    'note-E3_quarter',\n",
    "    'note-E3_quarter',\n",
    "    'barline',\n",
    "    'note-D3_quarter',\n",
    "    'note-D3_quarter',\n",
    "    'note-E3_quarter',\n",
    "    'note-D3_quarter',\n",
    "    'barline',\n",
    "    'note-C3_whole',\n",
    "    'barline',\n",
    "    ''\n",
    "]\n",
    "\n",
    "# Parse and play\n",
    "parsed_stream = parse_semantic_encoding(semantic_tokens)\n",
    "parsed_stream.show('text')  # Show textual representation\n",
    "parsed_stream.show('midi')  # Play the music"
   ]
  },
  {
   "cell_type": "code",
   "execution_count": 33,
   "id": "1bc6bda5-ef72-4a4f-8ce5-337c43365e75",
   "metadata": {},
   "outputs": [],
   "source": [
    "os.chdir(\"./CRNN_tf\")\n",
    "from ctc_predict import run"
   ]
  },
  {
   "cell_type": "code",
   "execution_count": 34,
   "id": "b65f1541-0908-4e6b-9cb1-0ee1443faf14",
   "metadata": {},
   "outputs": [
    {
     "name": "stderr",
     "output_type": "stream",
     "text": [
      "I0000 00:00:1733775633.947195   41213 gpu_device.cc:2022] Created device /job:localhost/replica:0/task:0/device:GPU:0 with 4277 MB memory:  -> device: 0, name: NVIDIA GeForce RTX 3060 Laptop GPU, pci bus id: 0000:01:00.0, compute capability: 8.6\n"
     ]
    },
    {
     "name": "stdout",
     "output_type": "stream",
     "text": [
      "WARNING:tensorflow:The saved meta_graph is possibly from an older release:\n",
      "'model_variables' collection should be of type 'byte_list', but instead is of type 'node_list'.\n",
      "INFO:tensorflow:Restoring parameters from /home/muku/Coursework/Sem_5/Deep Learning/project/DL-2024/CRNN_tf/models/agnostic_model\n"
     ]
    }
   ],
   "source": [
    "example = f\"{ROOT}/CRNN_tf/Data/Example/000051652-1_2_1.png\"\n",
    "agnostic_demo = run(f\"{ROOT}/agnostic_vocab.txt\", f\"{ROOT}/CRNN_tf/models/agnostic_model.meta\", f\"{ROOT}/JingleBells.png\")"
   ]
  },
  {
   "cell_type": "code",
   "execution_count": 35,
   "id": "34eebb55-187a-456d-8e4f-2adf0da771d4",
   "metadata": {},
   "outputs": [
    {
     "data": {
      "text/plain": [
       "['clef.G-L2',\n",
       " 'digit.4-S5',\n",
       " 'digit.4-L4',\n",
       " 'note.quarter-L-2',\n",
       " 'note.half-L-1',\n",
       " 'accidental.natural-L0',\n",
       " 'note.half-L-2',\n",
       " 'note.half-L1',\n",
       " 'barline-L1',\n",
       " 'note.quarter-L-2',\n",
       " 'note.quarter-L-2',\n",
       " 'note.half-L-2',\n",
       " 'note.half-L1',\n",
       " 'barline-L1']"
      ]
     },
     "execution_count": 35,
     "metadata": {},
     "output_type": "execute_result"
    }
   ],
   "source": [
    "agnostic_demo"
   ]
  },
  {
   "cell_type": "code",
   "execution_count": 36,
   "id": "522d12df-7b64-4372-85d4-33b58f635ca8",
   "metadata": {},
   "outputs": [],
   "source": [
    "os.chdir(\"..\")"
   ]
  },
  {
   "cell_type": "code",
   "execution_count": 37,
   "id": "14de16f3-8b08-4469-ba6c-ce14d6c20eab",
   "metadata": {},
   "outputs": [
    {
     "data": {
      "text/plain": [
       "['last',\n",
       " 'package_aa.csv',\n",
       " '.gitignore',\n",
       " 'JingleBells.png',\n",
       " 'lacrimosa.png',\n",
       " 'agnostic_vocab.txt',\n",
       " 'seq2seq',\n",
       " '.git',\n",
       " '.venv',\n",
       " 'demo_img.png',\n",
       " '.ipynb_checkpoints',\n",
       " 'semantic_vocab.txt',\n",
       " 'Demo.ipynb',\n",
       " 'utils.py',\n",
       " 'data.csv',\n",
       " 'CRNN_torch',\n",
       " 'package_ab.csv',\n",
       " 'README.md',\n",
       " 'requirements.txt',\n",
       " 'CRNN_tf',\n",
       " 'PrIMuS',\n",
       " 'pre-model']"
      ]
     },
     "execution_count": 37,
     "metadata": {},
     "output_type": "execute_result"
    }
   ],
   "source": [
    "os.listdir()"
   ]
  },
  {
   "cell_type": "code",
   "execution_count": 38,
   "id": "6e380a26-f676-42a7-94dd-6dd5f6762bb9",
   "metadata": {},
   "outputs": [],
   "source": [
    "from seq2seq.Model_Testing import run"
   ]
  },
  {
   "cell_type": "code",
   "execution_count": 40,
   "id": "90fbe2b7-6c80-406b-a55e-56b9f0f7231e",
   "metadata": {},
   "outputs": [
    {
     "name": "stderr",
     "output_type": "stream",
     "text": [
      "/home/muku/Coursework/Sem_5/Deep Learning/project/DL-2024/seq2seq/Model_Testing.py:328: FutureWarning: DataFrame.applymap has been deprecated. Use DataFrame.map instead.\n",
      "  df_pre = df_filtered.applymap(lambda x: x.split('\\t')[0:-1])\n"
     ]
    },
    {
     "name": "stdout",
     "output_type": "stream",
     "text": [
      "Train size: 70142\n",
      "Validation size: 8768\n",
      "Test size: 8768\n"
     ]
    },
    {
     "name": "stderr",
     "output_type": "stream",
     "text": [
      "/home/muku/Coursework/Sem_5/Deep Learning/project/DL-2024/seq2seq/Model_Testing.py:372: FutureWarning: You are using `torch.load` with `weights_only=False` (the current default value), which uses the default pickle module implicitly. It is possible to construct malicious pickle data which will execute arbitrary code during unpickling (See https://github.com/pytorch/pytorch/blob/main/SECURITY.md#untrusted-models for more details). In a future release, the default value for `weights_only` will be flipped to `True`. This limits the functions that could be executed during unpickling. Arbitrary objects will no longer be allowed to be loaded via this mode unless they are explicitly allowlisted by the user via `torch.serialization.add_safe_globals`. We recommend you start setting `weights_only=True` for any use case where you don't have full control of the loaded file. Please open an issue on GitHub for any issues related to this experimental feature.\n",
      "  model.load_state_dict(torch.load(f\"{ROOT}/seq2seq/models/best_model_2_257_at.pt\"))\n"
     ]
    },
    {
     "name": "stdout",
     "output_type": "stream",
     "text": [
      "Input String:\n",
      "\n",
      "digit.4-S5 digit.4-L4 note.quarter-L-2 note.half-L-1 accidental.natural-L0 note.half-L-2 note.half-L1 barline-L1 note.quarter-L-2 note.quarter-L-2 note.half-L-2 note.half-L1\n",
      "\n",
      "Model Output:\n",
      "\n",
      "clef-G2 timeSignature-4/2 note-F3_quarter note-A3_half note-A3_half note-E4_half barline note-F3_quarter note-F3_quarter note-D5_half note-E4_half barline\n",
      "\n"
     ]
    },
    {
     "data": {
      "text/plain": [
       "['clef-G2',\n",
       " 'timeSignature-4/2',\n",
       " 'note-F3_quarter',\n",
       " 'note-A3_half',\n",
       " 'note-A3_half',\n",
       " 'note-E4_half',\n",
       " 'barline',\n",
       " 'note-F3_quarter',\n",
       " 'note-F3_quarter',\n",
       " 'note-D5_half',\n",
       " 'note-E4_half',\n",
       " 'barline']"
      ]
     },
     "execution_count": 40,
     "metadata": {},
     "output_type": "execute_result"
    }
   ],
   "source": [
    "test = run(agnostic_demo)\n",
    "test"
   ]
  },
  {
   "cell_type": "code",
   "execution_count": 41,
   "id": "9e96a31c-0c4d-465d-b7b7-4a43ba407b5c",
   "metadata": {},
   "outputs": [
    {
     "name": "stdout",
     "output_type": "stream",
     "text": [
      "{0.0} <music21.clef.TrebleClef>\n",
      "{0.0} <music21.meter.TimeSignature 4/2>\n",
      "{0.0} <music21.note.Note F>\n",
      "{1.0} <music21.note.Note A>\n",
      "{3.0} <music21.note.Note A>\n",
      "{5.0} <music21.note.Note E>\n",
      "{7.0} <music21.stream.Measure 0 offset=7.0>\n",
      "\n",
      "{7.0} <music21.note.Note F>\n",
      "{8.0} <music21.note.Note F>\n",
      "{9.0} <music21.note.Note D>\n",
      "{11.0} <music21.note.Note E>\n",
      "{13.0} <music21.stream.Measure 0 offset=13.0>\n",
      "\n"
     ]
    },
    {
     "data": {
      "text/html": [
       "\n",
       "        <div id=\"midiPlayerDiv838\"></div>\n",
       "        <link rel=\"stylesheet\" href=\"https://cuthbertLab.github.io/music21j/css/m21.css\">\n",
       "        \n",
       "        <script\n",
       "        src=\"https://cdnjs.cloudflare.com/ajax/libs/require.js/2.3.6/require.min.js\"\n",
       "        ></script>\n",
       "    \n",
       "        <script>\n",
       "        function midiPlayerDiv838_play() {\n",
       "            const rq = require.config({\n",
       "                paths: {\n",
       "                    'music21': 'https://cuthbertLab.github.io/music21j/releases/music21.debug',\n",
       "                }\n",
       "            });\n",
       "            rq(['music21'], function(music21) {\n",
       "                mp = new music21.miditools.MidiPlayer();\n",
       "                mp.addPlayer(\"#midiPlayerDiv838\");\n",
       "                mp.base64Load(\"data:audio/midi;base64,TVRoZAAAAAYAAQACJ2BNVHJrAAAAFAD/UQMHoSAA/1gEBAEYCM5g/y8ATVRyawAAAFsA/wMAAOAAQM5gkDVazmCANQAAkDlagZ1AgDkAAJA5WoGdQIA5AACQQFqBnUCAQAAAkDVazmCANQAAkDVazmCANQAAkEpagZ1AgEoAAJBAWoGdQIBAAM5g/y8A\");\n",
       "            });\n",
       "        }\n",
       "        if (typeof require === 'undefined') {\n",
       "            setTimeout(midiPlayerDiv838_play, 2000);\n",
       "        } else {\n",
       "            midiPlayerDiv838_play();\n",
       "        }\n",
       "        </script>"
      ],
      "text/plain": [
       "<IPython.core.display.HTML object>"
      ]
     },
     "metadata": {},
     "output_type": "display_data"
    }
   ],
   "source": [
    "parsed_stream = parse_semantic_encoding(test)\n",
    "parsed_stream.show('text')  # Show textual representation\n",
    "parsed_stream.show('midi')  # Play the music"
   ]
  }
 ],
 "metadata": {
  "kernelspec": {
   "display_name": "Python 3 (ipykernel)",
   "language": "python",
   "name": "python3"
  },
  "language_info": {
   "codemirror_mode": {
    "name": "ipython",
    "version": 3
   },
   "file_extension": ".py",
   "mimetype": "text/x-python",
   "name": "python",
   "nbconvert_exporter": "python",
   "pygments_lexer": "ipython3",
   "version": "3.10.15"
  }
 },
 "nbformat": 4,
 "nbformat_minor": 5
}
