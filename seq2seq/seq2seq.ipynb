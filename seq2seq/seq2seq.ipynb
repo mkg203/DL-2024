{
 "cells": [
  {
   "cell_type": "code",
   "execution_count": 42,
   "id": "6468e0f4-17e0-4b78-83be-fdb3f011fbc4",
   "metadata": {},
   "outputs": [],
   "source": [
    "import pandas as pd\n",
    "from sklearn.model_selection import train_test_split"
   ]
  },
  {
   "cell_type": "code",
   "execution_count": 43,
   "id": "98394bbf-ab2e-46a9-87ab-b5784cf12c7a",
   "metadata": {},
   "outputs": [],
   "source": [
    "df = pd.read_csv(\"../../data/data.csv\")\n",
    "df_filtered = df[['agnostic', 'semantic']]\n",
    "\n",
    "agn_vocab_file = \"../agnostic_vocab.txt\"\n",
    "sem_vocab_file = \"../semantic_vocab.txt\"\n",
    "\n",
    "with open(agn_vocab_file, 'r') as file:\n",
    "    agn_vocab = file.read().splitlines()\n",
    "with open(sem_vocab_file, 'r') as file:\n",
    "    sem_vocab = file.read().splitlines()"
   ]
  },
  {
   "cell_type": "code",
   "execution_count": 48,
   "id": "e5681d6d-7b40-414b-886a-e1ba1bcf0ef5",
   "metadata": {},
   "outputs": [
    {
     "name": "stderr",
     "output_type": "stream",
     "text": [
      "/tmp/ipykernel_16273/1216913717.py:1: FutureWarning: DataFrame.applymap has been deprecated. Use DataFrame.map instead.\n",
      "  df_pre = df_filtered.applymap(lambda x: x.split('\\t')[0:-1])\n"
     ]
    }
   ],
   "source": [
    "df_pre = df_filtered.applymap(lambda x: x.split('\\t')[0:-1])"
   ]
  },
  {
   "cell_type": "code",
   "execution_count": 50,
   "id": "9701d55f-15c4-482f-952d-0572cfc48f05",
   "metadata": {},
   "outputs": [
    {
     "name": "stdout",
     "output_type": "stream",
     "text": [
      "Train size: 70142\n",
      "Validation size: 8768\n",
      "Test size: 8768\n"
     ]
    }
   ],
   "source": [
    "train_data, temp_data = train_test_split(df_pre, test_size=0.2, random_state=42)\n",
    "\n",
    "validation_data, test_data = train_test_split(temp_data, test_size=0.5, random_state=42)\n",
    "\n",
    "print(f\"Train size: {len(train_data)}\")\n",
    "print(f\"Validation size: {len(validation_data)}\")\n",
    "print(f\"Test size: {len(test_data)}\")"
   ]
  },
  {
   "cell_type": "code",
   "execution_count": 55,
   "id": "cf5b29f7-6ddd-4f54-b290-e34564d4b311",
   "metadata": {},
   "outputs": [],
   "source": [
    "def transform_row(row):\n",
    "    return {\n",
    "        'agnostic': ' '.join(row['agnostic']),  # Convert the list to a string\n",
    "        'semantic': ' '.join(row['semantic']),  # Convert the list to a string\n",
    "        'agnostic_tokens': ['<sos>'] + row['agnostic'] + ['<eos>'],  # Add <sos> and <eos>\n",
    "        'semantic_tokens': ['<sos>'] + row['semantic'] + ['<eos>']   # Add <sos> and <eos>\n",
    "    }\n",
    "\n",
    "train_data = train_data.apply(transform_row, axis=1).tolist()\n",
    "validation_data = validation_data.apply(transform_row, axis=1).tolist()\n",
    "test_data = test_data.apply(transform_row, axis=1).tolist()"
   ]
  },
  {
   "cell_type": "code",
   "execution_count": 56,
   "id": "feddf290-61be-49a7-ac2f-41e404df8a4c",
   "metadata": {},
   "outputs": [
    {
     "data": {
      "text/plain": [
       "{'agnostic': 'clef.G-L2 accidental.sharp-L5 accidental.sharp-S3 metersign.C-L3 digit.4-S5 multirest-L3 barline-L1 rest.quarter-L3 rest.eighth-L3 dot-S3 note.sixteenth-L5 note.quarter-L4 slur.start-L4 slur.end-L4 note.eighth-L4 dot-S4 note.sixteenth-S2 barline-L1 note.half-L5 dot-S5 note.eighth-L5 note.eighth-L5 barline-L1 note.half-L5 dot-S5 note.eighth-S4 note.eighth-L4 barline-L1 note.whole-S4 barline-L1 note.quarter-S2 rest.eighth-L3 dot-S3',\n",
       " 'semantic': 'clef-G2 keySignature-DM timeSignature-C multirest-4 barline rest-quarter rest-eighth. note-F#5_sixteenth note-D5_quarter tie note-D5_eighth. note-A4_sixteenth barline note-F#5_half. note-F#5_eighth note-F#5_eighth barline note-F#5_half. note-E5_eighth note-D5_eighth barline note-E5_whole barline note-A4_quarter rest-eighth.',\n",
       " 'agnostic_tokens': ['<sos>',\n",
       "  'clef.G-L2',\n",
       "  'accidental.sharp-L5',\n",
       "  'accidental.sharp-S3',\n",
       "  'metersign.C-L3',\n",
       "  'digit.4-S5',\n",
       "  'multirest-L3',\n",
       "  'barline-L1',\n",
       "  'rest.quarter-L3',\n",
       "  'rest.eighth-L3',\n",
       "  'dot-S3',\n",
       "  'note.sixteenth-L5',\n",
       "  'note.quarter-L4',\n",
       "  'slur.start-L4',\n",
       "  'slur.end-L4',\n",
       "  'note.eighth-L4',\n",
       "  'dot-S4',\n",
       "  'note.sixteenth-S2',\n",
       "  'barline-L1',\n",
       "  'note.half-L5',\n",
       "  'dot-S5',\n",
       "  'note.eighth-L5',\n",
       "  'note.eighth-L5',\n",
       "  'barline-L1',\n",
       "  'note.half-L5',\n",
       "  'dot-S5',\n",
       "  'note.eighth-S4',\n",
       "  'note.eighth-L4',\n",
       "  'barline-L1',\n",
       "  'note.whole-S4',\n",
       "  'barline-L1',\n",
       "  'note.quarter-S2',\n",
       "  'rest.eighth-L3',\n",
       "  'dot-S3',\n",
       "  '<eos>'],\n",
       " 'semantic_tokens': ['<sos>',\n",
       "  'clef-G2',\n",
       "  'keySignature-DM',\n",
       "  'timeSignature-C',\n",
       "  'multirest-4',\n",
       "  'barline',\n",
       "  'rest-quarter',\n",
       "  'rest-eighth.',\n",
       "  'note-F#5_sixteenth',\n",
       "  'note-D5_quarter',\n",
       "  'tie',\n",
       "  'note-D5_eighth.',\n",
       "  'note-A4_sixteenth',\n",
       "  'barline',\n",
       "  'note-F#5_half.',\n",
       "  'note-F#5_eighth',\n",
       "  'note-F#5_eighth',\n",
       "  'barline',\n",
       "  'note-F#5_half.',\n",
       "  'note-E5_eighth',\n",
       "  'note-D5_eighth',\n",
       "  'barline',\n",
       "  'note-E5_whole',\n",
       "  'barline',\n",
       "  'note-A4_quarter',\n",
       "  'rest-eighth.',\n",
       "  '<eos>']}"
      ]
     },
     "execution_count": 56,
     "metadata": {},
     "output_type": "execute_result"
    }
   ],
   "source": []
  },
  {
   "cell_type": "code",
   "execution_count": null,
   "id": "c470aa5b-6ee6-4994-aece-599c4bd27d4a",
   "metadata": {},
   "outputs": [],
   "source": []
  }
 ],
 "metadata": {
  "kernelspec": {
   "display_name": "Python 3 (ipykernel)",
   "language": "python",
   "name": "python3"
  },
  "language_info": {
   "codemirror_mode": {
    "name": "ipython",
    "version": 3
   },
   "file_extension": ".py",
   "mimetype": "text/x-python",
   "name": "python",
   "nbconvert_exporter": "python",
   "pygments_lexer": "ipython3",
   "version": "3.10.14"
  }
 },
 "nbformat": 4,
 "nbformat_minor": 5
}
